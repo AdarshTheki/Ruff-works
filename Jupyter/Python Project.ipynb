{
 "cells": [
  {
   "cell_type": "code",
   "execution_count": 3,
   "id": "2097979d",
   "metadata": {},
   "outputs": [
    {
     "name": "stdout",
     "output_type": "stream",
     "text": [
      "Enter a Phrase: gopal verma pra go\n",
      " GVPG\n"
     ]
    }
   ],
   "source": [
    "# Create Acronyms Using Python\n",
    "user = str(input(\"Enter a Phrase: \"))\n",
    "text = user.split()\n",
    "a = \" \"\n",
    "for i in text:\n",
    "    a = a + str(i[0]).upper()\n",
    "print(a)"
   ]
  },
  {
   "cell_type": "code",
   "execution_count": 5,
   "id": "b81ef8cf",
   "metadata": {},
   "outputs": [
    {
     "name": "stdout",
     "output_type": "stream",
     "text": [
      "Enter the time of alarm to be set : HH:MM:SS\n",
      "0234PM\n",
      "Setting up alarm...\n"
     ]
    },
    {
     "ename": "KeyboardInterrupt",
     "evalue": "",
     "output_type": "error",
     "traceback": [
      "\u001b[1;31m---------------------------------------------------------------------------\u001b[0m",
      "\u001b[1;31mKeyboardInterrupt\u001b[0m                         Traceback (most recent call last)",
      "\u001b[1;32m~\\AppData\\Local\\Temp\\ipykernel_7684\\2544292696.py\u001b[0m in \u001b[0;36m<module>\u001b[1;34m\u001b[0m\n\u001b[0;32m     11\u001b[0m     \u001b[0mnow\u001b[0m \u001b[1;33m=\u001b[0m \u001b[0mdatetime\u001b[0m\u001b[1;33m.\u001b[0m\u001b[0mnow\u001b[0m\u001b[1;33m(\u001b[0m\u001b[1;33m)\u001b[0m\u001b[1;33m\u001b[0m\u001b[1;33m\u001b[0m\u001b[0m\n\u001b[0;32m     12\u001b[0m     \u001b[0mcurrent_hour\u001b[0m \u001b[1;33m=\u001b[0m \u001b[0mnow\u001b[0m\u001b[1;33m.\u001b[0m\u001b[0mstrftime\u001b[0m\u001b[1;33m(\u001b[0m\u001b[1;34m\"%I\"\u001b[0m\u001b[1;33m)\u001b[0m\u001b[1;33m\u001b[0m\u001b[1;33m\u001b[0m\u001b[0m\n\u001b[1;32m---> 13\u001b[1;33m     \u001b[0mcurrent_minute\u001b[0m \u001b[1;33m=\u001b[0m \u001b[0mnow\u001b[0m\u001b[1;33m.\u001b[0m\u001b[0mstrftime\u001b[0m\u001b[1;33m(\u001b[0m\u001b[1;34m\"%M\"\u001b[0m\u001b[1;33m)\u001b[0m\u001b[1;33m\u001b[0m\u001b[1;33m\u001b[0m\u001b[0m\n\u001b[0m\u001b[0;32m     14\u001b[0m     \u001b[0mcurrent_seconds\u001b[0m \u001b[1;33m=\u001b[0m \u001b[0mnow\u001b[0m\u001b[1;33m.\u001b[0m\u001b[0mstrftime\u001b[0m\u001b[1;33m(\u001b[0m\u001b[1;34m\"%S\"\u001b[0m\u001b[1;33m)\u001b[0m\u001b[1;33m\u001b[0m\u001b[1;33m\u001b[0m\u001b[0m\n\u001b[0;32m     15\u001b[0m     \u001b[0mcurrent_period\u001b[0m \u001b[1;33m=\u001b[0m \u001b[0mnow\u001b[0m\u001b[1;33m.\u001b[0m\u001b[0mstrftime\u001b[0m\u001b[1;33m(\u001b[0m\u001b[1;34m\"%p\"\u001b[0m\u001b[1;33m)\u001b[0m\u001b[1;33m\u001b[0m\u001b[1;33m\u001b[0m\u001b[0m\n",
      "\u001b[1;31mKeyboardInterrupt\u001b[0m: "
     ]
    }
   ],
   "source": [
    "# Alarm clock with python\n",
    "from datetime import datetime\n",
    "from playsound import playsound\n",
    "alarm_time = input(\"Enter the time of alarm to be set : HH:MM:SS\\n\")\n",
    "alarm_hours = alarm_time[0:2]\n",
    "alarm_minute = alarm_time[3:5]\n",
    "alarm_seconds = alarm_time[6:8]\n",
    "alarm_period = alarm_time[9:11].upper()\n",
    "print(\"Setting up alarm...\")\n",
    "while True:\n",
    "    now = datetime.now()\n",
    "    current_hour = now.strftime(\"%I\")\n",
    "    current_minute = now.strftime(\"%M\")\n",
    "    current_seconds = now.strftime(\"%S\")\n",
    "    current_period = now.strftime(\"%p\")\n",
    "    if(alarm_period == current_period):\n",
    "        if(alarm_hours == current_hour):\n",
    "            if(alarm_minute == current_minute):\n",
    "                if(alarm_seconds == current_seconds):\n",
    "                    print(\"Wake Up!\")\n",
    "                    playsound('audio.mp3')\n",
    "                    break"
   ]
  },
  {
   "cell_type": "code",
   "execution_count": 6,
   "id": "9f716bba",
   "metadata": {},
   "outputs": [
    {
     "name": "stdout",
     "output_type": "stream",
     "text": [
      "Enter Your Email: asda aas @ ss\n",
      "Your user name is 'asda aas ' and your domain is ' ss'\n"
     ]
    }
   ],
   "source": [
    "# Email slicer with python\n",
    "email = input(\"Enter Your Email: \").strip()\n",
    "username = email[:email.index(\"@\")]\n",
    "domain_name = email[email.index(\"@\")+1:]\n",
    "format_ = (f\"Your user name is '{username}' and your domain is '{domain_name}'\")\n",
    "print(format_)"
   ]
  },
  {
   "cell_type": "code",
   "execution_count": 7,
   "id": "cc1b6d30",
   "metadata": {},
   "outputs": [
    {
     "name": "stdout",
     "output_type": "stream",
     "text": [
      "On 20th Jan, an elephant that lived in Germany, went to the school and made a lot of friends\n"
     ]
    }
   ],
   "source": [
    "# Story Generator with Python\n",
    "import random\n",
    "when = ['A few years ago', 'Yesterday', 'Last night', 'A long time ago','On 20th Jan']\n",
    "who = ['a rabbit', 'an elephant', 'a mouse', 'a turtle','a cat']\n",
    "name = ['Ali', 'Miriam','daniel', 'Hoouk', 'Starwalker']\n",
    "residence = ['Barcelona','India', 'Germany', 'Venice', 'England']\n",
    "went = ['cinema', 'university','seminar', 'school', 'laundry']\n",
    "happened = ['made a lot of friends','Eats a burger', 'found a secret key', 'solved a mistery', 'wrote a book']\n",
    "print(random.choice(when) + ', ' + random.choice(who) + ' that lived in ' + random.choice(residence) + ', went to the ' + random.choice(went) + ' and ' + random.choice(happened))"
   ]
  },
  {
   "cell_type": "code",
   "execution_count": 14,
   "id": "a92d9b44",
   "metadata": {},
   "outputs": [
    {
     "name": "stdout",
     "output_type": "stream",
     "text": [
      "Enter the length of password: 8\n",
      "Kue93cwW\n"
     ]
    }
   ],
   "source": [
    "# Generate Password with Python\n",
    "import random\n",
    "passlen = int(input(\"Enter the length of password: \"))\n",
    "s=\"abcdefghijklmnopqrstuvwxyz01234567890ABCDEFGHIJKLMNOPQRSTUVWXYZ!@#$%^&*()?\"\n",
    "p = \"\".join(random.sample(s,passlen ))\n",
    "print(p)"
   ]
  },
  {
   "cell_type": "code",
   "execution_count": 16,
   "id": "f3487d9c",
   "metadata": {},
   "outputs": [
    {
     "name": "stdout",
     "output_type": "stream",
     "text": [
      "Rock, Paper or  Scissors?paper\n",
      "Tie!\n",
      "Rock, Paper or  Scissors?scissors\n",
      "You win! Scissors cut Paper\n",
      "Rock, Paper or  Scissors?end\n",
      "Final Scores:\n",
      "CPU:0\n",
      "Player:1\n"
     ]
    }
   ],
   "source": [
    "# Play Rock, Paper, and Scissors with Python\n",
    "import random\n",
    "choices = [\"Rock\", \"Paper\", \"Scissors\"]\n",
    "computer = random.choice(choices)\n",
    "player = False\n",
    "cpu_score = 0\n",
    "player_score = 0\n",
    "while True:\n",
    "    player = input(\"Rock, Paper or  Scissors?\").capitalize()\n",
    "    ## Conditions of Rock,Paper and Scissors\n",
    "    if player == computer:\n",
    "        print(\"Tie!\")\n",
    "    elif player == \"Rock\":\n",
    "        if computer == \"Paper\":\n",
    "            print(\"You lose!\", computer, \"covers\", player)\n",
    "            cpu_score+=1\n",
    "        else:\n",
    "            print(\"You win!\", player, \"smashes\", computer)\n",
    "            player_score+=1\n",
    "    elif player == \"Paper\":\n",
    "        if computer == \"Scissors\":\n",
    "            print(\"You lose!\", computer, \"cut\", player)\n",
    "            cpu_score+=1\n",
    "        else:\n",
    "            print(\"You win!\", player, \"covers\", computer)\n",
    "            player_score+=1\n",
    "    elif player == \"Scissors\":\n",
    "        if computer == \"Rock\":\n",
    "            print(\"You lose...\", computer, \"smashes\", player)\n",
    "            cpu_score+=1\n",
    "        else:\n",
    "            print(\"You win!\", player, \"cut\", computer)\n",
    "            player_score+=1\n",
    "    elif player=='End':\n",
    "        print(\"Final Scores:\")\n",
    "        print(f\"CPU:{cpu_score}\")\n",
    "        print(f\"Player:{player_score}\")\n",
    "        break"
   ]
  },
  {
   "cell_type": "code",
   "execution_count": 17,
   "id": "6459a5e8",
   "metadata": {},
   "outputs": [
    {
     "name": "stdout",
     "output_type": "stream",
     "text": [
      "Rolling The Dices...\n",
      "The Values are :\n",
      "2\n",
      "3\n",
      "Roll the Dices Again?5\n"
     ]
    }
   ],
   "source": [
    "# Dice Roll Simulator\n",
    "#importing module for random number generation\n",
    "import random\n",
    "\n",
    "#range of the values of a dice\n",
    "min_val = 1\n",
    "max_val = 6\n",
    "\n",
    "#to loop the rolling through user input\n",
    "roll_again = \"yes\"\n",
    "\n",
    "#loop\n",
    "while roll_again == \"yes\" or roll_again == \"y\":\n",
    "    print(\"Rolling The Dices...\")\n",
    "    print(\"The Values are :\")\n",
    "    \n",
    "    #generating and printing 1st random integer from 1 to 6\n",
    "    print(random.randint(min_val, max_val))\n",
    "    \n",
    "    #generating and printing 2nd random integer from 1 to 6\n",
    "    print(random.randint(min_val, max_val))\n",
    "    \n",
    "    #asking user to roll the dice again. Any input other than yes or y will terminate the loop\n",
    "    roll_again = input(\"Roll the Dices Again?\") "
   ]
  },
  {
   "cell_type": "code",
   "execution_count": 18,
   "id": "143b0324",
   "metadata": {},
   "outputs": [],
   "source": [
    "# QR Codes with Python\n"
   ]
  },
  {
   "cell_type": "code",
   "execution_count": 19,
   "id": "4a5927e2",
   "metadata": {},
   "outputs": [
    {
     "name": "stdout",
     "output_type": "stream",
     "text": [
      "Guess the Animal\n",
      "Which bear lives at the North Pole? cheeta\n",
      "Sorry Wrong Answer, try againpolar\n",
      "Sorry Wrong Answer, try againpolar bear\n",
      "Correct Answer\n",
      "Which is the fastest land animal? cheeta\n",
      "Sorry Wrong Answer, try againcheetah\n",
      "Correct Answer\n",
      "Which is the larget animal? blue whale\n",
      "Correct Answer\n",
      "Your Score is 3\n"
     ]
    }
   ],
   "source": [
    "# Create a Quiz Game with Python\n",
    "def check_guess(guess, answer):\n",
    "    global score\n",
    "    still_guessing = True\n",
    "    attempt = 0\n",
    "    while still_guessing and attempt < 3:\n",
    "        if guess.lower() == answer.lower():\n",
    "            print(\"Correct Answer\")\n",
    "            score = score + 1\n",
    "            still_guessing = False\n",
    "        else:\n",
    "            if attempt < 2:\n",
    "                guess = input(\"Sorry Wrong Answer, try again\")\n",
    "            attempt = attempt + 1\n",
    "    if attempt == 3:\n",
    "        print(\"The Correct answer is \",answer )\n",
    "    \n",
    "score = 0\n",
    "print(\"Guess the Animal\")\n",
    "guess1 = input(\"Which bear lives at the North Pole? \")\n",
    "check_guess(guess1, \"polar bear\")\n",
    "guess2 = input(\"Which is the fastest land animal? \")\n",
    "check_guess(guess2, \"Cheetah\")\n",
    "guess3 = input(\"Which is the larget animal? \")\n",
    "check_guess(guess3, \"Blue Whale\")\n",
    "print(\"Your Score is \"+ str(score))"
   ]
  },
  {
   "cell_type": "code",
   "execution_count": 21,
   "id": "36caa3ba",
   "metadata": {},
   "outputs": [
    {
     "name": "stdout",
     "output_type": "stream",
     "text": [
      "Hi My name is Adarsh Verma I am your Machine Learning Instructor\n",
      "Hi My name is Adarsh Verma\n",
      "Hi My name is Adarsh Verma\n"
     ]
    }
   ],
   "source": [
    "#Print Colored Text with Python\n",
    "import colorama\n",
    "from colorama import Fore, Back, Style\n",
    "colorama.init(autoreset=True)\n",
    "\n",
    "print(Fore.BLUE+Back.YELLOW+\"Hi My name is Adarsh Verma \"+ Fore.YELLOW+ Back.BLUE+\"I am your Machine Learning Instructor\")\n",
    "print(Back.CYAN+\"Hi My name is Adarsh Verma\")\n",
    "print(Fore.RED + Back.GREEN+ \"Hi My name is Adarsh Verma\")"
   ]
  },
  {
   "cell_type": "code",
   "execution_count": 26,
   "id": "77769403",
   "metadata": {},
   "outputs": [
    {
     "name": "stdout",
     "output_type": "stream",
     "text": [
      "Enter your height in centimeters: 185\n",
      "Enter your Weight in Kg: 80\n",
      "your Body Mass Index is:  23.37472607742878\n",
      "you are Healthy\n"
     ]
    }
   ],
   "source": [
    "# BMI Calculator with Python\n",
    "\n",
    "Height=float(input(\"Enter your height in centimeters: \"))\n",
    "Weight=float(input(\"Enter your Weight in Kg: \"))\n",
    "Height = Height/100\n",
    "BMI=Weight/(Height*Height)\n",
    "print(\"your Body Mass Index is: \",BMI)\n",
    "if(BMI>0):\n",
    "\tif(BMI<=16):\n",
    "\t\tprint(\"you are severely underweight\")\n",
    "\telif(BMI<=18.5):\n",
    "\t\tprint(\"you are underweight\")\n",
    "\telif(BMI<=25):\n",
    "\t\tprint(\"you are Healthy\")\n",
    "\telif(BMI<=30):\n",
    "\t\tprint(\"you are overweight\")\n",
    "\telse: print(\"you are severely overweight\")\n",
    "else:(\"enter valid details\")"
   ]
  },
  {
   "cell_type": "code",
   "execution_count": null,
   "id": "b7edff17",
   "metadata": {},
   "outputs": [],
   "source": []
  }
 ],
 "metadata": {
  "kernelspec": {
   "display_name": "Python 3",
   "language": "python",
   "name": "python3"
  },
  "language_info": {
   "codemirror_mode": {
    "name": "ipython",
    "version": 3
   },
   "file_extension": ".py",
   "mimetype": "text/x-python",
   "name": "python",
   "nbconvert_exporter": "python",
   "pygments_lexer": "ipython3",
   "version": "3.10.6 (main, Aug 12 2022, 18:00:29)  [GCC 12.1.0 64 bit (AMD64)]"
  },
  "vscode": {
   "interpreter": {
    "hash": "2a8dfe095fce2b5e88c64a2c3ee084c8e0e0d70b23e7b95b1cfb538be294c5c8"
   }
  }
 },
 "nbformat": 4,
 "nbformat_minor": 5
}
